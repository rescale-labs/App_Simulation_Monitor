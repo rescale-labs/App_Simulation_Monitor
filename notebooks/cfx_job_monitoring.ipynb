{
 "cells": [
  {
   "cell_type": "markdown",
   "id": "1e69ab66",
   "metadata": {},
   "source": [
    "# ANSYS CFX live Job Monitoring"
   ]
  },
  {
   "cell_type": "markdown",
   "id": "7909b0e6",
   "metadata": {},
   "source": [
    "This Jupyter Notebook can be used to live monitor ANSYS CFX jobs on Rescale.  \n",
    "The function `find_relevant_variables` below can be modified if other variables should be monitored. "
   ]
  },
  {
   "cell_type": "markdown",
   "id": "5540a6c9",
   "metadata": {},
   "source": [
    "## Install required tools"
   ]
  },
  {
   "cell_type": "code",
   "execution_count": null,
   "id": "2f85212f",
   "metadata": {},
   "outputs": [],
   "source": [
    "! pip install plotly ipywidgets==7.8.0"
   ]
  },
  {
   "cell_type": "code",
   "execution_count": null,
   "id": "c60bd15e",
   "metadata": {},
   "outputs": [],
   "source": [
    "import glob\n",
    "import os\n",
    "import subprocess\n",
    "from pathlib import Path\n",
    "\n",
    "import ipywidgets as widgets\n",
    "import pandas as pd\n",
    "import plotly.graph_objects as go\n",
    "from IPython import display"
   ]
  },
  {
   "cell_type": "markdown",
   "id": "9b1fb80a",
   "metadata": {},
   "source": [
    "## Helper functions"
   ]
  },
  {
   "cell_type": "code",
   "execution_count": null,
   "id": "6e933c16",
   "metadata": {},
   "outputs": [],
   "source": [
    "def find_relevant_variables(mon_file):\n",
    "    command = f'cfx5mondata -mon {mon_file} -showvars -varrule \"CATEGORY = USER POINT\"'\n",
    "    cp = subprocess.run(\n",
    "        command,\n",
    "        shell=True,\n",
    "        check=True,\n",
    "        stdout=subprocess.PIPE,\n",
    "        stderr=subprocess.PIPE,\n",
    "        universal_newlines=True,\n",
    "    )\n",
    "    relevant_vars = [v for v in cp.stdout.splitlines() if v.startswith(\"USER POINT\")]\n",
    "    return relevant_vars\n",
    "\n",
    "\n",
    "def get_csv_data(mon_file, relevant_variables, monitor_data_csv_file):\n",
    "    command = f'cfx5mondata -mon {mon_file} -varlist \"{\";\".join(relevant_variables)}\" -out {monitor_data_csv_file}'\n",
    "    subprocess.run(\n",
    "        command,\n",
    "        shell=True,\n",
    "        check=True,\n",
    "        stdout=subprocess.PIPE,\n",
    "        stderr=subprocess.PIPE,\n",
    "        universal_newlines=True,\n",
    "    )\n",
    "    df = pd.read_csv(monitor_data_csv_file)\n",
    "    return df\n",
    "\n",
    "\n",
    "def create_plot(mon_file):\n",
    "    monitor_data_csv_file = mon_file.parent.joinpath(mon_file.stem + \"_monitor.csv\")\n",
    "    relevant_variables = find_relevant_variables(mon_file)\n",
    "    df = get_csv_data(mon_file, relevant_variables, monitor_data_csv_file)\n",
    "\n",
    "    fig = go.Figure()\n",
    "    for c in df.columns[1:]:\n",
    "        fig.add_trace(\n",
    "            go.Scatter(\n",
    "                x=df[df.columns[0]], y=df[c], mode=\"lines+markers\", name=df[c].name\n",
    "            )\n",
    "        )\n",
    "    fig.update_layout(title=str(mon_file), showlegend=True)\n",
    "    fig.update_xaxes(range=[0.0, None], title=df.columns[0])\n",
    "    return fig"
   ]
  },
  {
   "cell_type": "markdown",
   "id": "0b8a045a",
   "metadata": {},
   "source": [
    "## Create Plot"
   ]
  },
  {
   "cell_type": "code",
   "execution_count": null,
   "id": "e3b7fe0a",
   "metadata": {},
   "outputs": [],
   "source": [
    "# start search in the home directory as there may be several work directories in a DOE\n",
    "os.chdir(str(Path.home()))\n",
    "\n",
    "mon_file_pattern = \"**/mon\"\n",
    "mon_files = [Path(item) for item in glob.glob(mon_file_pattern, recursive=True)]\n",
    "\n",
    "dropdown_mon = widgets.Dropdown(\n",
    "    options=mon_files, values=mon_files[0], layout={\"width\": \"max-content\"}\n",
    ")\n",
    "\n",
    "\n",
    "def reload_button_on_click(obj):\n",
    "    with output:\n",
    "        fig = create_plot(dropdown_mon.value)\n",
    "        display.clear_output(wait=True)\n",
    "        display.display(fig)\n",
    "\n",
    "\n",
    "reload_button = widgets.Button(description=\"Reload\", icon=\"rotate-right\")\n",
    "reload_button.on_click(reload_button_on_click)\n",
    "\n",
    "output = widgets.Output()\n",
    "\n",
    "\n",
    "def dropdown_mon_eventhandler(change):\n",
    "    with output:\n",
    "        fig = create_plot(change[\"new\"])\n",
    "        display.clear_output(wait=True)\n",
    "        display.display(fig)\n",
    "\n",
    "\n",
    "dropdown_mon.observe(dropdown_mon_eventhandler, names=\"value\")\n",
    "display.display(dropdown_mon)\n",
    "display.display(reload_button)"
   ]
  },
  {
   "cell_type": "code",
   "execution_count": null,
   "id": "06b6e982",
   "metadata": {},
   "outputs": [],
   "source": [
    "display.display(output)"
   ]
  },
  {
   "cell_type": "code",
   "execution_count": null,
   "id": "80a3824f",
   "metadata": {},
   "outputs": [],
   "source": [
    "dropdown_mon_eventhandler({\"type\": \"change\", \"new\": mon_files[0]})"
   ]
  }
 ],
 "metadata": {
  "kernelspec": {
   "display_name": "Python 3",
   "language": "python",
   "name": "python3"
  },
  "language_info": {
   "codemirror_mode": {
    "name": "ipython",
    "version": 3
   },
   "file_extension": ".py",
   "mimetype": "text/x-python",
   "name": "python",
   "nbconvert_exporter": "python",
   "pygments_lexer": "ipython3",
   "version": "3.6.8"
  }
 },
 "nbformat": 4,
 "nbformat_minor": 5
}
